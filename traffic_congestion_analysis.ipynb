{
 "cells": [
  {
   "cell_type": "markdown",
   "id": "1c494780",
   "metadata": {},
   "source": [
    "# Traffic Congestion Analysis\n",
    "\n",
    "**Project:** Traffic Congestion Analysis  \n",
    "**Tools:** Python, Pandas, NumPy, Seaborn, Matplotlib, SQL (optional), Excel/Power BI (reporting)  \n",
    "\n",
    "This notebook demonstrates a realistic exploratory data analysis workflow for city traffic data. The dataset is in `traffic_data.csv`. The analysis includes data loading, cleaning, exploratory visualizations, and key insights useful for a data analyst portfolio.\n"
   ]
  },
  {
   "cell_type": "code",
   "execution_count": null,
   "id": "7f312aa1",
   "metadata": {},
   "outputs": [],
   "source": [
    "import pandas as pd\n",
    "import numpy as np\n",
    "import matplotlib.pyplot as plt\n",
    "import seaborn as sns\n",
    "%matplotlib inline\n",
    "sns.set(style='whitegrid')"
   ]
  },
  {
   "cell_type": "code",
   "execution_count": null,
   "id": "e2bd6cdb",
   "metadata": {},
   "outputs": [],
   "source": [
    "df = pd.read_csv('traffic_data.csv')\n",
    "df.head()"
   ]
  },
  {
   "cell_type": "markdown",
   "id": "cc8c4b8e",
   "metadata": {},
   "source": [
    "## Data overview and basic checks"
   ]
  },
  {
   "cell_type": "code",
   "execution_count": null,
   "id": "88ec422d",
   "metadata": {},
   "outputs": [],
   "source": [
    "df.info()\n",
    "\n",
    "# Basic statistics\n",
    "_df_stats = df.describe(include='all')\n",
    "_df_stats"
   ]
  },
  {
   "cell_type": "markdown",
   "id": "d4305bec",
   "metadata": {},
   "source": [
    "## Cleaning & feature engineering\n",
    "- Convert `Date` and `Time` to datetime\n",
    "- Create `Hour` and `Weekday` features\n",
    "- Create a categorical `Congestion_Category` for easier grouping"
   ]
  },
  {
   "cell_type": "code",
   "execution_count": null,
   "id": "f206caca",
   "metadata": {},
   "outputs": [],
   "source": [
    "df['Date'] = pd.to_datetime(df['Date'])\n",
    "# combine Date and Time\n",
    "try:\n",
    "    df['Time'] = pd.to_datetime(df['Time'], format='%H:%M').dt.time\n",
    "except:\n",
    "    pass\n",
    "\n",
    "df['Hour'] = pd.to_datetime(df['Time'].astype(str)).dt.hour\n",
    "\n",
    "df['Weekday'] = df['Date'].dt.day_name()\n",
    "\n",
    "def cong_cat(x):\n",
    "    if x >= 75:\n",
    "        return 'Severe'\n",
    "    elif x >= 50:\n",
    "        return 'High'\n",
    "    elif x >= 30:\n",
    "        return 'Moderate'\n",
    "    else:\n",
    "        return 'Low'\n",
    "\n",
    "df['Congestion_Category'] = df['Congestion_Level_pct'].apply(cong_cat)\n",
    "\n",
    "df.head()"
   ]
  },
  {
   "cell_type": "markdown",
   "id": "6c4bf55e",
   "metadata": {},
   "source": [
    "## Exploratory Analysis\n",
    "1. Congestion by Hour (average congestion level by hour)\n",
    "2. Congestion hotspots (by Location)\n",
    "3. Congestion by Vehicle Type\n",
    "4. Weather impact on congestion\n",
    "5. Simple insights / recommendations"
   ]
  },
  {
   "cell_type": "code",
   "execution_count": null,
   "id": "238942fd",
   "metadata": {},
   "outputs": [],
   "source": [
    "# 1. Congestion by Hour\n",
    "hourly = df.groupby('Hour')['Congestion_Level_pct'].mean().reset_index()\n",
    "plt.figure(figsize=(10,4))\n",
    "sns.lineplot(data=hourly, x='Hour', y='Congestion_Level_pct', marker='o')\n",
    "plt.title('Average Congestion Level by Hour')\n",
    "plt.ylabel('Avg Congestion (%)')\n",
    "plt.xlabel('Hour of Day')\n",
    "plt.show()"
   ]
  },
  {
   "cell_type": "code",
   "execution_count": null,
   "id": "c81ce0e5",
   "metadata": {},
   "outputs": [],
   "source": [
    "# 2. Top congestion locations\n",
    "loc = df.groupby('Location')['Congestion_Level_pct'].mean().sort_values(ascending=False).reset_index()\n",
    "plt.figure(figsize=(10,5))\n",
    "sns.barplot(data=loc, y='Location', x='Congestion_Level_pct')\n",
    "plt.title('Average Congestion by Location')\n",
    "plt.xlabel('Avg Congestion (%)')\n",
    "plt.show()"
   ]
  },
  {
   "cell_type": "code",
   "execution_count": null,
   "id": "f255086b",
   "metadata": {},
   "outputs": [],
   "source": [
    "# 3. Congestion by vehicle type\n",
    "plt.figure(figsize=(8,5))\n",
    "sns.boxplot(data=df, x='Vehicle_Type', y='Congestion_Level_pct')\n",
    "plt.title('Congestion distribution by Vehicle Type')\n",
    "plt.show()"
   ]
  },
  {
   "cell_type": "code",
   "execution_count": null,
   "id": "c56e59fb",
   "metadata": {},
   "outputs": [],
   "source": [
    "# 4. Weather vs Congestion\n",
    "plt.figure(figsize=(8,5))\n",
    "sns.violinplot(data=df, x='Weather', y='Congestion_Level_pct')\n",
    "plt.title('Weather impact on Congestion')\n",
    "plt.show()"
   ]
  },
  {
   "cell_type": "code",
   "execution_count": null,
   "id": "bab41523",
   "metadata": {},
   "outputs": [],
   "source": [
    "# 5. Heatmap: Average congestion by hour and location (sampled locations for readability)\n",
    "sample_locs = df['Location'].unique()[:8]\n",
    "heat = df[df['Location'].isin(sample_locs)].pivot_table(index='Location', columns='Hour', values='Congestion_Level_pct', aggfunc='mean')\n",
    "plt.figure(figsize=(12,5))\n",
    "sns.heatmap(heat, annot=False, fmt='.1f', cmap='YlOrRd')\n",
    "plt.title('Avg Congestion by Location (rows) and Hour (cols)')\n",
    "plt.show()"
   ]
  },
  {
   "cell_type": "markdown",
   "id": "91141175",
   "metadata": {},
  }
 ],
 "metadata": {},
 "nbformat": 4,
 "nbformat_minor": 5
}
